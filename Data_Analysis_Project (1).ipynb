{
  "nbformat": 4,
  "nbformat_minor": 0,
  "metadata": {
    "colab": {
      "provenance": []
    },
    "kernelspec": {
      "name": "python3",
      "display_name": "Python 3"
    },
    "language_info": {
      "name": "python"
    }
  },
  "cells": [
    {
      "cell_type": "markdown",
      "source": [
        "##Data Analysis Project - Agricultural Data Exploration.\n"
      ],
      "metadata": {
        "id": "_eqoRMuXVg9B"
      }
    },
    {
      "cell_type": "markdown",
      "source": [
        "##Introduction\n",
        "Hi, I'm happy to hear that you're interested in the Maji Ndogo project! Allow me to explain our challenges and our approach to overcoming them.\n",
        "\n",
        "We are working on a large-scale initiative to automate farming in Maji Ndogo, which has a variety of difficult agricultural environments. We must first determine the 'where' and 'what' of farming before delving into the 'how'. Making educated decisions about where to plant particular crops, taking into account variables like rainfall, soil type, climate, and many more, is more important than simply implementing technology.\n",
        "\n",
        "The analytical process will entail methodically answering the research questions and using an organized method to dissect each one. This will entail using suitable statistical methods or algorithms and carrying out in-depth data examination. Clear, well-structured code will be used to conduct the analysis in order to guarantee openness, repeatability, and comprehension.\n",
        "\n",
        "The foundation of this entire automation project is our analysis. We have a wide range of variables, including regional information, climate, and soil fertility. Knowing these factors allows us to suggest the ideal sites for certain crops. It's similar to completing a challenging puzzle in that every piece of information is essential to understanding the whole picture.\n",
        "\n",
        "Lets get ready to explore!!!"
      ],
      "metadata": {
        "id": "30d_0HRm4aEj"
      }
    },
    {
      "cell_type": "markdown",
      "source": [
        "We will first walk through the process of importing our dataframe from google drive.This is a crucial step as it sets the foundation for all our subsequent analyses."
      ],
      "metadata": {
        "id": "CMXIgd0P9Ndz"
      }
    },
    {
      "cell_type": "code",
      "source": [
        "from google.colab import drive\n",
        "drive.mount('/content/drive')"
      ],
      "metadata": {
        "colab": {
          "base_uri": "https://localhost:8080/"
        },
        "id": "V8hRSJN4Vdmr",
        "outputId": "f6c3fd89-ccf8-47bb-a86d-1f1e2e4994e6"
      },
      "execution_count": 1,
      "outputs": [
        {
          "output_type": "stream",
          "name": "stdout",
          "text": [
            "Mounted at /content/drive\n"
          ]
        }
      ]
    },
    {
      "cell_type": "markdown",
      "source": [
        "#Preview of the data"
      ],
      "metadata": {
        "id": "1-MRRIoy9--s"
      }
    },
    {
      "cell_type": "code",
      "source": [
        "import os\n",
        "import pandas as pd\n",
        "\n",
        "\n",
        "file_path = '/content/drive/MyDrive/MD_agric_exam-4313.CSV'\n",
        "df = pd.read_csv(file_path)\n",
        "\n",
        "df.head()"
      ],
      "metadata": {
        "colab": {
          "base_uri": "https://localhost:8080/",
          "height": 226
        },
        "id": "N8RyptZ8Wicx",
        "outputId": "d238243c-f41f-41a1-e715-ec46a7c26e27"
      },
      "execution_count": 2,
      "outputs": [
        {
          "output_type": "execute_result",
          "data": {
            "text/plain": [
              "   Field_ID  Elevation  Rainfall  Min_temperature_C  Max_temperature_C  \\\n",
              "0      1162  494.95615    1507.6               -5.4               31.0   \n",
              "1      5108  663.73390     581.0               -4.7               30.9   \n",
              "2      3504  396.87990    1715.1               -6.1               31.7   \n",
              "3      5351  594.80370    1748.0               -4.3               33.6   \n",
              "4       905  609.49800    1395.8               -4.5               31.3   \n",
              "\n",
              "         pH  Pollution_level  Plot_size  Annual_yield Crop_type  \n",
              "0  6.859436         0.007034        3.6      1.617421    coffee  \n",
              "1  5.603219         0.289643        4.2      2.532497    potato  \n",
              "2  5.774116         0.000409        2.6      1.262207    banana  \n",
              "3  6.477415         0.088777        7.9      4.351564     wheat  \n",
              "4  5.419586         0.050023       10.8      5.034791   cassava  "
            ],
            "text/html": [
              "\n",
              "  <div id=\"df-cb5a6870-1ac3-47f0-b9b5-544b4e5f5da4\" class=\"colab-df-container\">\n",
              "    <div>\n",
              "<style scoped>\n",
              "    .dataframe tbody tr th:only-of-type {\n",
              "        vertical-align: middle;\n",
              "    }\n",
              "\n",
              "    .dataframe tbody tr th {\n",
              "        vertical-align: top;\n",
              "    }\n",
              "\n",
              "    .dataframe thead th {\n",
              "        text-align: right;\n",
              "    }\n",
              "</style>\n",
              "<table border=\"1\" class=\"dataframe\">\n",
              "  <thead>\n",
              "    <tr style=\"text-align: right;\">\n",
              "      <th></th>\n",
              "      <th>Field_ID</th>\n",
              "      <th>Elevation</th>\n",
              "      <th>Rainfall</th>\n",
              "      <th>Min_temperature_C</th>\n",
              "      <th>Max_temperature_C</th>\n",
              "      <th>pH</th>\n",
              "      <th>Pollution_level</th>\n",
              "      <th>Plot_size</th>\n",
              "      <th>Annual_yield</th>\n",
              "      <th>Crop_type</th>\n",
              "    </tr>\n",
              "  </thead>\n",
              "  <tbody>\n",
              "    <tr>\n",
              "      <th>0</th>\n",
              "      <td>1162</td>\n",
              "      <td>494.95615</td>\n",
              "      <td>1507.6</td>\n",
              "      <td>-5.4</td>\n",
              "      <td>31.0</td>\n",
              "      <td>6.859436</td>\n",
              "      <td>0.007034</td>\n",
              "      <td>3.6</td>\n",
              "      <td>1.617421</td>\n",
              "      <td>coffee</td>\n",
              "    </tr>\n",
              "    <tr>\n",
              "      <th>1</th>\n",
              "      <td>5108</td>\n",
              "      <td>663.73390</td>\n",
              "      <td>581.0</td>\n",
              "      <td>-4.7</td>\n",
              "      <td>30.9</td>\n",
              "      <td>5.603219</td>\n",
              "      <td>0.289643</td>\n",
              "      <td>4.2</td>\n",
              "      <td>2.532497</td>\n",
              "      <td>potato</td>\n",
              "    </tr>\n",
              "    <tr>\n",
              "      <th>2</th>\n",
              "      <td>3504</td>\n",
              "      <td>396.87990</td>\n",
              "      <td>1715.1</td>\n",
              "      <td>-6.1</td>\n",
              "      <td>31.7</td>\n",
              "      <td>5.774116</td>\n",
              "      <td>0.000409</td>\n",
              "      <td>2.6</td>\n",
              "      <td>1.262207</td>\n",
              "      <td>banana</td>\n",
              "    </tr>\n",
              "    <tr>\n",
              "      <th>3</th>\n",
              "      <td>5351</td>\n",
              "      <td>594.80370</td>\n",
              "      <td>1748.0</td>\n",
              "      <td>-4.3</td>\n",
              "      <td>33.6</td>\n",
              "      <td>6.477415</td>\n",
              "      <td>0.088777</td>\n",
              "      <td>7.9</td>\n",
              "      <td>4.351564</td>\n",
              "      <td>wheat</td>\n",
              "    </tr>\n",
              "    <tr>\n",
              "      <th>4</th>\n",
              "      <td>905</td>\n",
              "      <td>609.49800</td>\n",
              "      <td>1395.8</td>\n",
              "      <td>-4.5</td>\n",
              "      <td>31.3</td>\n",
              "      <td>5.419586</td>\n",
              "      <td>0.050023</td>\n",
              "      <td>10.8</td>\n",
              "      <td>5.034791</td>\n",
              "      <td>cassava</td>\n",
              "    </tr>\n",
              "  </tbody>\n",
              "</table>\n",
              "</div>\n",
              "    <div class=\"colab-df-buttons\">\n",
              "\n",
              "  <div class=\"colab-df-container\">\n",
              "    <button class=\"colab-df-convert\" onclick=\"convertToInteractive('df-cb5a6870-1ac3-47f0-b9b5-544b4e5f5da4')\"\n",
              "            title=\"Convert this dataframe to an interactive table.\"\n",
              "            style=\"display:none;\">\n",
              "\n",
              "  <svg xmlns=\"http://www.w3.org/2000/svg\" height=\"24px\" viewBox=\"0 -960 960 960\">\n",
              "    <path d=\"M120-120v-720h720v720H120Zm60-500h600v-160H180v160Zm220 220h160v-160H400v160Zm0 220h160v-160H400v160ZM180-400h160v-160H180v160Zm440 0h160v-160H620v160ZM180-180h160v-160H180v160Zm440 0h160v-160H620v160Z\"/>\n",
              "  </svg>\n",
              "    </button>\n",
              "\n",
              "  <style>\n",
              "    .colab-df-container {\n",
              "      display:flex;\n",
              "      gap: 12px;\n",
              "    }\n",
              "\n",
              "    .colab-df-convert {\n",
              "      background-color: #E8F0FE;\n",
              "      border: none;\n",
              "      border-radius: 50%;\n",
              "      cursor: pointer;\n",
              "      display: none;\n",
              "      fill: #1967D2;\n",
              "      height: 32px;\n",
              "      padding: 0 0 0 0;\n",
              "      width: 32px;\n",
              "    }\n",
              "\n",
              "    .colab-df-convert:hover {\n",
              "      background-color: #E2EBFA;\n",
              "      box-shadow: 0px 1px 2px rgba(60, 64, 67, 0.3), 0px 1px 3px 1px rgba(60, 64, 67, 0.15);\n",
              "      fill: #174EA6;\n",
              "    }\n",
              "\n",
              "    .colab-df-buttons div {\n",
              "      margin-bottom: 4px;\n",
              "    }\n",
              "\n",
              "    [theme=dark] .colab-df-convert {\n",
              "      background-color: #3B4455;\n",
              "      fill: #D2E3FC;\n",
              "    }\n",
              "\n",
              "    [theme=dark] .colab-df-convert:hover {\n",
              "      background-color: #434B5C;\n",
              "      box-shadow: 0px 1px 3px 1px rgba(0, 0, 0, 0.15);\n",
              "      filter: drop-shadow(0px 1px 2px rgba(0, 0, 0, 0.3));\n",
              "      fill: #FFFFFF;\n",
              "    }\n",
              "  </style>\n",
              "\n",
              "    <script>\n",
              "      const buttonEl =\n",
              "        document.querySelector('#df-cb5a6870-1ac3-47f0-b9b5-544b4e5f5da4 button.colab-df-convert');\n",
              "      buttonEl.style.display =\n",
              "        google.colab.kernel.accessAllowed ? 'block' : 'none';\n",
              "\n",
              "      async function convertToInteractive(key) {\n",
              "        const element = document.querySelector('#df-cb5a6870-1ac3-47f0-b9b5-544b4e5f5da4');\n",
              "        const dataTable =\n",
              "          await google.colab.kernel.invokeFunction('convertToInteractive',\n",
              "                                                    [key], {});\n",
              "        if (!dataTable) return;\n",
              "\n",
              "        const docLinkHtml = 'Like what you see? Visit the ' +\n",
              "          '<a target=\"_blank\" href=https://colab.research.google.com/notebooks/data_table.ipynb>data table notebook</a>'\n",
              "          + ' to learn more about interactive tables.';\n",
              "        element.innerHTML = '';\n",
              "        dataTable['output_type'] = 'display_data';\n",
              "        await google.colab.output.renderOutput(dataTable, element);\n",
              "        const docLink = document.createElement('div');\n",
              "        docLink.innerHTML = docLinkHtml;\n",
              "        element.appendChild(docLink);\n",
              "      }\n",
              "    </script>\n",
              "  </div>\n",
              "\n",
              "\n",
              "<div id=\"df-d6c5f53c-6b6e-4aea-b71c-2575359dbf75\">\n",
              "  <button class=\"colab-df-quickchart\" onclick=\"quickchart('df-d6c5f53c-6b6e-4aea-b71c-2575359dbf75')\"\n",
              "            title=\"Suggest charts\"\n",
              "            style=\"display:none;\">\n",
              "\n",
              "<svg xmlns=\"http://www.w3.org/2000/svg\" height=\"24px\"viewBox=\"0 0 24 24\"\n",
              "     width=\"24px\">\n",
              "    <g>\n",
              "        <path d=\"M19 3H5c-1.1 0-2 .9-2 2v14c0 1.1.9 2 2 2h14c1.1 0 2-.9 2-2V5c0-1.1-.9-2-2-2zM9 17H7v-7h2v7zm4 0h-2V7h2v10zm4 0h-2v-4h2v4z\"/>\n",
              "    </g>\n",
              "</svg>\n",
              "  </button>\n",
              "\n",
              "<style>\n",
              "  .colab-df-quickchart {\n",
              "      --bg-color: #E8F0FE;\n",
              "      --fill-color: #1967D2;\n",
              "      --hover-bg-color: #E2EBFA;\n",
              "      --hover-fill-color: #174EA6;\n",
              "      --disabled-fill-color: #AAA;\n",
              "      --disabled-bg-color: #DDD;\n",
              "  }\n",
              "\n",
              "  [theme=dark] .colab-df-quickchart {\n",
              "      --bg-color: #3B4455;\n",
              "      --fill-color: #D2E3FC;\n",
              "      --hover-bg-color: #434B5C;\n",
              "      --hover-fill-color: #FFFFFF;\n",
              "      --disabled-bg-color: #3B4455;\n",
              "      --disabled-fill-color: #666;\n",
              "  }\n",
              "\n",
              "  .colab-df-quickchart {\n",
              "    background-color: var(--bg-color);\n",
              "    border: none;\n",
              "    border-radius: 50%;\n",
              "    cursor: pointer;\n",
              "    display: none;\n",
              "    fill: var(--fill-color);\n",
              "    height: 32px;\n",
              "    padding: 0;\n",
              "    width: 32px;\n",
              "  }\n",
              "\n",
              "  .colab-df-quickchart:hover {\n",
              "    background-color: var(--hover-bg-color);\n",
              "    box-shadow: 0 1px 2px rgba(60, 64, 67, 0.3), 0 1px 3px 1px rgba(60, 64, 67, 0.15);\n",
              "    fill: var(--button-hover-fill-color);\n",
              "  }\n",
              "\n",
              "  .colab-df-quickchart-complete:disabled,\n",
              "  .colab-df-quickchart-complete:disabled:hover {\n",
              "    background-color: var(--disabled-bg-color);\n",
              "    fill: var(--disabled-fill-color);\n",
              "    box-shadow: none;\n",
              "  }\n",
              "\n",
              "  .colab-df-spinner {\n",
              "    border: 2px solid var(--fill-color);\n",
              "    border-color: transparent;\n",
              "    border-bottom-color: var(--fill-color);\n",
              "    animation:\n",
              "      spin 1s steps(1) infinite;\n",
              "  }\n",
              "\n",
              "  @keyframes spin {\n",
              "    0% {\n",
              "      border-color: transparent;\n",
              "      border-bottom-color: var(--fill-color);\n",
              "      border-left-color: var(--fill-color);\n",
              "    }\n",
              "    20% {\n",
              "      border-color: transparent;\n",
              "      border-left-color: var(--fill-color);\n",
              "      border-top-color: var(--fill-color);\n",
              "    }\n",
              "    30% {\n",
              "      border-color: transparent;\n",
              "      border-left-color: var(--fill-color);\n",
              "      border-top-color: var(--fill-color);\n",
              "      border-right-color: var(--fill-color);\n",
              "    }\n",
              "    40% {\n",
              "      border-color: transparent;\n",
              "      border-right-color: var(--fill-color);\n",
              "      border-top-color: var(--fill-color);\n",
              "    }\n",
              "    60% {\n",
              "      border-color: transparent;\n",
              "      border-right-color: var(--fill-color);\n",
              "    }\n",
              "    80% {\n",
              "      border-color: transparent;\n",
              "      border-right-color: var(--fill-color);\n",
              "      border-bottom-color: var(--fill-color);\n",
              "    }\n",
              "    90% {\n",
              "      border-color: transparent;\n",
              "      border-bottom-color: var(--fill-color);\n",
              "    }\n",
              "  }\n",
              "</style>\n",
              "\n",
              "  <script>\n",
              "    async function quickchart(key) {\n",
              "      const quickchartButtonEl =\n",
              "        document.querySelector('#' + key + ' button');\n",
              "      quickchartButtonEl.disabled = true;  // To prevent multiple clicks.\n",
              "      quickchartButtonEl.classList.add('colab-df-spinner');\n",
              "      try {\n",
              "        const charts = await google.colab.kernel.invokeFunction(\n",
              "            'suggestCharts', [key], {});\n",
              "      } catch (error) {\n",
              "        console.error('Error during call to suggestCharts:', error);\n",
              "      }\n",
              "      quickchartButtonEl.classList.remove('colab-df-spinner');\n",
              "      quickchartButtonEl.classList.add('colab-df-quickchart-complete');\n",
              "    }\n",
              "    (() => {\n",
              "      let quickchartButtonEl =\n",
              "        document.querySelector('#df-d6c5f53c-6b6e-4aea-b71c-2575359dbf75 button');\n",
              "      quickchartButtonEl.style.display =\n",
              "        google.colab.kernel.accessAllowed ? 'block' : 'none';\n",
              "    })();\n",
              "  </script>\n",
              "</div>\n",
              "\n",
              "    </div>\n",
              "  </div>\n"
            ],
            "application/vnd.google.colaboratory.intrinsic+json": {
              "type": "dataframe",
              "variable_name": "df",
              "summary": "{\n  \"name\": \"df\",\n  \"rows\": 1000,\n  \"fields\": [\n    {\n      \"column\": \"Field_ID\",\n      \"properties\": {\n        \"dtype\": \"number\",\n        \"std\": 1595,\n        \"min\": 1,\n        \"max\": 5632,\n        \"num_unique_values\": 1000,\n        \"samples\": [\n          182,\n          2111,\n          4820\n        ],\n        \"semantic_type\": \"\",\n        \"description\": \"\"\n      }\n    },\n    {\n      \"column\": \"Elevation\",\n      \"properties\": {\n        \"dtype\": \"number\",\n        \"std\": 179.09854577925248,\n        \"min\": 35.910797,\n        \"max\": 1003.9437,\n        \"num_unique_values\": 999,\n        \"samples\": [\n          595.1161,\n          657.79865,\n          795.66144\n        ],\n        \"semantic_type\": \"\",\n        \"description\": \"\"\n      }\n    },\n    {\n      \"column\": \"Rainfall\",\n      \"properties\": {\n        \"dtype\": \"number\",\n        \"std\": 497.7946994984565,\n        \"min\": 110.1,\n        \"max\": 2408.5,\n        \"num_unique_values\": 976,\n        \"samples\": [\n          437.9,\n          2089.6,\n          1786.7\n        ],\n        \"semantic_type\": \"\",\n        \"description\": \"\"\n      }\n    },\n    {\n      \"column\": \"Min_temperature_C\",\n      \"properties\": {\n        \"dtype\": \"number\",\n        \"std\": 1.568117400637524,\n        \"min\": -9.7,\n        \"max\": -1.1999999999999993,\n        \"num_unique_values\": 78,\n        \"samples\": [\n          -2.1,\n          -5.4,\n          -3.6\n        ],\n        \"semantic_type\": \"\",\n        \"description\": \"\"\n      }\n    },\n    {\n      \"column\": \"Max_temperature_C\",\n      \"properties\": {\n        \"dtype\": \"number\",\n        \"std\": 1.922250214172414,\n        \"min\": 25.1,\n        \"max\": 37.3,\n        \"num_unique_values\": 100,\n        \"samples\": [\n          27.3,\n          30.6,\n          32.3\n        ],\n        \"semantic_type\": \"\",\n        \"description\": \"\"\n      }\n    },\n    {\n      \"column\": \"pH\",\n      \"properties\": {\n        \"dtype\": \"number\",\n        \"std\": 0.8021542155343985,\n        \"min\": 3.701837695247213,\n        \"max\": 7.484682522648175,\n        \"num_unique_values\": 1000,\n        \"samples\": [\n          5.880206726609568,\n          5.690477616164524,\n          6.418722828008496\n        ],\n        \"semantic_type\": \"\",\n        \"description\": \"\"\n      }\n    },\n    {\n      \"column\": \"Pollution_level\",\n      \"properties\": {\n        \"dtype\": \"number\",\n        \"std\": 0.22886646030602037,\n        \"min\": 5.3974477012003e-10,\n        \"max\": 0.9954133959472448,\n        \"num_unique_values\": 1000,\n        \"samples\": [\n          9.425088998298988e-05,\n          0.0002043991446461,\n          0.04844470139404\n        ],\n        \"semantic_type\": \"\",\n        \"description\": \"\"\n      }\n    },\n    {\n      \"column\": \"Plot_size\",\n      \"properties\": {\n        \"dtype\": \"number\",\n        \"std\": 3.4590361621658725,\n        \"min\": 0.5,\n        \"max\": 15.0,\n        \"num_unique_values\": 134,\n        \"samples\": [\n          12.8,\n          12.2,\n          7.5\n        ],\n        \"semantic_type\": \"\",\n        \"description\": \"\"\n      }\n    },\n    {\n      \"column\": \"Annual_yield\",\n      \"properties\": {\n        \"dtype\": \"number\",\n        \"std\": 1.9266937481456616,\n        \"min\": 0.1748574333801564,\n        \"max\": 12.695223852226984,\n        \"num_unique_values\": 1000,\n        \"samples\": [\n          4.2235074940350525,\n          0.8042398298079456,\n          2.0284309736238217\n        ],\n        \"semantic_type\": \"\",\n        \"description\": \"\"\n      }\n    },\n    {\n      \"column\": \"Crop_type\",\n      \"properties\": {\n        \"dtype\": \"category\",\n        \"num_unique_values\": 8,\n        \"samples\": [\n          \"potato\",\n          \"maize\",\n          \"coffee\"\n        ],\n        \"semantic_type\": \"\",\n        \"description\": \"\"\n      }\n    }\n  ]\n}"
            }
          },
          "metadata": {},
          "execution_count": 2
        }
      ]
    },
    {
      "cell_type": "markdown",
      "source": [
        "Checking the data for any possible errors in readiness for data cleaning"
      ],
      "metadata": {
        "id": "RA0BJ9wQ-IzR"
      }
    },
    {
      "cell_type": "code",
      "source": [
        "#from types import CoroutineType\n",
        "df.describe()"
      ],
      "metadata": {
        "id": "n6N-yJKydjHj",
        "colab": {
          "base_uri": "https://localhost:8080/",
          "height": 320
        },
        "outputId": "90608040-0558-4633-8ca9-ee9751a348e4"
      },
      "execution_count": 3,
      "outputs": [
        {
          "output_type": "execute_result",
          "data": {
            "text/plain": [
              "          Field_ID    Elevation     Rainfall  Min_temperature_C  \\\n",
              "count  1000.000000  1000.000000  1000.000000        1000.000000   \n",
              "mean   2779.486000   628.136035  1197.734700          -4.504100   \n",
              "std    1595.068372   179.098546   497.794699           1.568117   \n",
              "min       1.000000    35.910797   110.100000          -9.700000   \n",
              "25%    1442.250000   504.392825   771.575000          -5.600000   \n",
              "50%    2728.500000   657.468975  1194.900000          -4.400000   \n",
              "75%    4133.000000   761.075752  1616.900000          -3.300000   \n",
              "max    5632.000000  1003.943700  2408.500000          -1.200000   \n",
              "\n",
              "       Max_temperature_C           pH  Pollution_level    Plot_size  \\\n",
              "count         1000.00000  1000.000000     1.000000e+03  1000.000000   \n",
              "mean            30.89460     5.603899     2.233740e-01     3.962400   \n",
              "std              1.92225     0.802154     2.288665e-01     3.459036   \n",
              "min             25.10000     3.701838     5.397448e-10     0.500000   \n",
              "25%             29.57500     5.018775     4.449419e-02     1.500000   \n",
              "50%             30.90000     5.562078     1.661962e-01     2.900000   \n",
              "75%             32.20000     6.201437     3.077840e-01     4.700000   \n",
              "max             37.30000     7.484683     9.954134e-01    15.000000   \n",
              "\n",
              "       Annual_yield  \n",
              "count   1000.000000  \n",
              "mean       2.101536  \n",
              "std        1.926694  \n",
              "min        0.174857  \n",
              "25%        0.786612  \n",
              "50%        1.478622  \n",
              "75%        2.519811  \n",
              "max       12.695224  "
            ],
            "text/html": [
              "\n",
              "  <div id=\"df-87ad3b7c-6791-499f-b6d0-c56135dc42cc\" class=\"colab-df-container\">\n",
              "    <div>\n",
              "<style scoped>\n",
              "    .dataframe tbody tr th:only-of-type {\n",
              "        vertical-align: middle;\n",
              "    }\n",
              "\n",
              "    .dataframe tbody tr th {\n",
              "        vertical-align: top;\n",
              "    }\n",
              "\n",
              "    .dataframe thead th {\n",
              "        text-align: right;\n",
              "    }\n",
              "</style>\n",
              "<table border=\"1\" class=\"dataframe\">\n",
              "  <thead>\n",
              "    <tr style=\"text-align: right;\">\n",
              "      <th></th>\n",
              "      <th>Field_ID</th>\n",
              "      <th>Elevation</th>\n",
              "      <th>Rainfall</th>\n",
              "      <th>Min_temperature_C</th>\n",
              "      <th>Max_temperature_C</th>\n",
              "      <th>pH</th>\n",
              "      <th>Pollution_level</th>\n",
              "      <th>Plot_size</th>\n",
              "      <th>Annual_yield</th>\n",
              "    </tr>\n",
              "  </thead>\n",
              "  <tbody>\n",
              "    <tr>\n",
              "      <th>count</th>\n",
              "      <td>1000.000000</td>\n",
              "      <td>1000.000000</td>\n",
              "      <td>1000.000000</td>\n",
              "      <td>1000.000000</td>\n",
              "      <td>1000.00000</td>\n",
              "      <td>1000.000000</td>\n",
              "      <td>1.000000e+03</td>\n",
              "      <td>1000.000000</td>\n",
              "      <td>1000.000000</td>\n",
              "    </tr>\n",
              "    <tr>\n",
              "      <th>mean</th>\n",
              "      <td>2779.486000</td>\n",
              "      <td>628.136035</td>\n",
              "      <td>1197.734700</td>\n",
              "      <td>-4.504100</td>\n",
              "      <td>30.89460</td>\n",
              "      <td>5.603899</td>\n",
              "      <td>2.233740e-01</td>\n",
              "      <td>3.962400</td>\n",
              "      <td>2.101536</td>\n",
              "    </tr>\n",
              "    <tr>\n",
              "      <th>std</th>\n",
              "      <td>1595.068372</td>\n",
              "      <td>179.098546</td>\n",
              "      <td>497.794699</td>\n",
              "      <td>1.568117</td>\n",
              "      <td>1.92225</td>\n",
              "      <td>0.802154</td>\n",
              "      <td>2.288665e-01</td>\n",
              "      <td>3.459036</td>\n",
              "      <td>1.926694</td>\n",
              "    </tr>\n",
              "    <tr>\n",
              "      <th>min</th>\n",
              "      <td>1.000000</td>\n",
              "      <td>35.910797</td>\n",
              "      <td>110.100000</td>\n",
              "      <td>-9.700000</td>\n",
              "      <td>25.10000</td>\n",
              "      <td>3.701838</td>\n",
              "      <td>5.397448e-10</td>\n",
              "      <td>0.500000</td>\n",
              "      <td>0.174857</td>\n",
              "    </tr>\n",
              "    <tr>\n",
              "      <th>25%</th>\n",
              "      <td>1442.250000</td>\n",
              "      <td>504.392825</td>\n",
              "      <td>771.575000</td>\n",
              "      <td>-5.600000</td>\n",
              "      <td>29.57500</td>\n",
              "      <td>5.018775</td>\n",
              "      <td>4.449419e-02</td>\n",
              "      <td>1.500000</td>\n",
              "      <td>0.786612</td>\n",
              "    </tr>\n",
              "    <tr>\n",
              "      <th>50%</th>\n",
              "      <td>2728.500000</td>\n",
              "      <td>657.468975</td>\n",
              "      <td>1194.900000</td>\n",
              "      <td>-4.400000</td>\n",
              "      <td>30.90000</td>\n",
              "      <td>5.562078</td>\n",
              "      <td>1.661962e-01</td>\n",
              "      <td>2.900000</td>\n",
              "      <td>1.478622</td>\n",
              "    </tr>\n",
              "    <tr>\n",
              "      <th>75%</th>\n",
              "      <td>4133.000000</td>\n",
              "      <td>761.075752</td>\n",
              "      <td>1616.900000</td>\n",
              "      <td>-3.300000</td>\n",
              "      <td>32.20000</td>\n",
              "      <td>6.201437</td>\n",
              "      <td>3.077840e-01</td>\n",
              "      <td>4.700000</td>\n",
              "      <td>2.519811</td>\n",
              "    </tr>\n",
              "    <tr>\n",
              "      <th>max</th>\n",
              "      <td>5632.000000</td>\n",
              "      <td>1003.943700</td>\n",
              "      <td>2408.500000</td>\n",
              "      <td>-1.200000</td>\n",
              "      <td>37.30000</td>\n",
              "      <td>7.484683</td>\n",
              "      <td>9.954134e-01</td>\n",
              "      <td>15.000000</td>\n",
              "      <td>12.695224</td>\n",
              "    </tr>\n",
              "  </tbody>\n",
              "</table>\n",
              "</div>\n",
              "    <div class=\"colab-df-buttons\">\n",
              "\n",
              "  <div class=\"colab-df-container\">\n",
              "    <button class=\"colab-df-convert\" onclick=\"convertToInteractive('df-87ad3b7c-6791-499f-b6d0-c56135dc42cc')\"\n",
              "            title=\"Convert this dataframe to an interactive table.\"\n",
              "            style=\"display:none;\">\n",
              "\n",
              "  <svg xmlns=\"http://www.w3.org/2000/svg\" height=\"24px\" viewBox=\"0 -960 960 960\">\n",
              "    <path d=\"M120-120v-720h720v720H120Zm60-500h600v-160H180v160Zm220 220h160v-160H400v160Zm0 220h160v-160H400v160ZM180-400h160v-160H180v160Zm440 0h160v-160H620v160ZM180-180h160v-160H180v160Zm440 0h160v-160H620v160Z\"/>\n",
              "  </svg>\n",
              "    </button>\n",
              "\n",
              "  <style>\n",
              "    .colab-df-container {\n",
              "      display:flex;\n",
              "      gap: 12px;\n",
              "    }\n",
              "\n",
              "    .colab-df-convert {\n",
              "      background-color: #E8F0FE;\n",
              "      border: none;\n",
              "      border-radius: 50%;\n",
              "      cursor: pointer;\n",
              "      display: none;\n",
              "      fill: #1967D2;\n",
              "      height: 32px;\n",
              "      padding: 0 0 0 0;\n",
              "      width: 32px;\n",
              "    }\n",
              "\n",
              "    .colab-df-convert:hover {\n",
              "      background-color: #E2EBFA;\n",
              "      box-shadow: 0px 1px 2px rgba(60, 64, 67, 0.3), 0px 1px 3px 1px rgba(60, 64, 67, 0.15);\n",
              "      fill: #174EA6;\n",
              "    }\n",
              "\n",
              "    .colab-df-buttons div {\n",
              "      margin-bottom: 4px;\n",
              "    }\n",
              "\n",
              "    [theme=dark] .colab-df-convert {\n",
              "      background-color: #3B4455;\n",
              "      fill: #D2E3FC;\n",
              "    }\n",
              "\n",
              "    [theme=dark] .colab-df-convert:hover {\n",
              "      background-color: #434B5C;\n",
              "      box-shadow: 0px 1px 3px 1px rgba(0, 0, 0, 0.15);\n",
              "      filter: drop-shadow(0px 1px 2px rgba(0, 0, 0, 0.3));\n",
              "      fill: #FFFFFF;\n",
              "    }\n",
              "  </style>\n",
              "\n",
              "    <script>\n",
              "      const buttonEl =\n",
              "        document.querySelector('#df-87ad3b7c-6791-499f-b6d0-c56135dc42cc button.colab-df-convert');\n",
              "      buttonEl.style.display =\n",
              "        google.colab.kernel.accessAllowed ? 'block' : 'none';\n",
              "\n",
              "      async function convertToInteractive(key) {\n",
              "        const element = document.querySelector('#df-87ad3b7c-6791-499f-b6d0-c56135dc42cc');\n",
              "        const dataTable =\n",
              "          await google.colab.kernel.invokeFunction('convertToInteractive',\n",
              "                                                    [key], {});\n",
              "        if (!dataTable) return;\n",
              "\n",
              "        const docLinkHtml = 'Like what you see? Visit the ' +\n",
              "          '<a target=\"_blank\" href=https://colab.research.google.com/notebooks/data_table.ipynb>data table notebook</a>'\n",
              "          + ' to learn more about interactive tables.';\n",
              "        element.innerHTML = '';\n",
              "        dataTable['output_type'] = 'display_data';\n",
              "        await google.colab.output.renderOutput(dataTable, element);\n",
              "        const docLink = document.createElement('div');\n",
              "        docLink.innerHTML = docLinkHtml;\n",
              "        element.appendChild(docLink);\n",
              "      }\n",
              "    </script>\n",
              "  </div>\n",
              "\n",
              "\n",
              "<div id=\"df-63ed02c6-4cb7-43e0-ba03-360a3101a894\">\n",
              "  <button class=\"colab-df-quickchart\" onclick=\"quickchart('df-63ed02c6-4cb7-43e0-ba03-360a3101a894')\"\n",
              "            title=\"Suggest charts\"\n",
              "            style=\"display:none;\">\n",
              "\n",
              "<svg xmlns=\"http://www.w3.org/2000/svg\" height=\"24px\"viewBox=\"0 0 24 24\"\n",
              "     width=\"24px\">\n",
              "    <g>\n",
              "        <path d=\"M19 3H5c-1.1 0-2 .9-2 2v14c0 1.1.9 2 2 2h14c1.1 0 2-.9 2-2V5c0-1.1-.9-2-2-2zM9 17H7v-7h2v7zm4 0h-2V7h2v10zm4 0h-2v-4h2v4z\"/>\n",
              "    </g>\n",
              "</svg>\n",
              "  </button>\n",
              "\n",
              "<style>\n",
              "  .colab-df-quickchart {\n",
              "      --bg-color: #E8F0FE;\n",
              "      --fill-color: #1967D2;\n",
              "      --hover-bg-color: #E2EBFA;\n",
              "      --hover-fill-color: #174EA6;\n",
              "      --disabled-fill-color: #AAA;\n",
              "      --disabled-bg-color: #DDD;\n",
              "  }\n",
              "\n",
              "  [theme=dark] .colab-df-quickchart {\n",
              "      --bg-color: #3B4455;\n",
              "      --fill-color: #D2E3FC;\n",
              "      --hover-bg-color: #434B5C;\n",
              "      --hover-fill-color: #FFFFFF;\n",
              "      --disabled-bg-color: #3B4455;\n",
              "      --disabled-fill-color: #666;\n",
              "  }\n",
              "\n",
              "  .colab-df-quickchart {\n",
              "    background-color: var(--bg-color);\n",
              "    border: none;\n",
              "    border-radius: 50%;\n",
              "    cursor: pointer;\n",
              "    display: none;\n",
              "    fill: var(--fill-color);\n",
              "    height: 32px;\n",
              "    padding: 0;\n",
              "    width: 32px;\n",
              "  }\n",
              "\n",
              "  .colab-df-quickchart:hover {\n",
              "    background-color: var(--hover-bg-color);\n",
              "    box-shadow: 0 1px 2px rgba(60, 64, 67, 0.3), 0 1px 3px 1px rgba(60, 64, 67, 0.15);\n",
              "    fill: var(--button-hover-fill-color);\n",
              "  }\n",
              "\n",
              "  .colab-df-quickchart-complete:disabled,\n",
              "  .colab-df-quickchart-complete:disabled:hover {\n",
              "    background-color: var(--disabled-bg-color);\n",
              "    fill: var(--disabled-fill-color);\n",
              "    box-shadow: none;\n",
              "  }\n",
              "\n",
              "  .colab-df-spinner {\n",
              "    border: 2px solid var(--fill-color);\n",
              "    border-color: transparent;\n",
              "    border-bottom-color: var(--fill-color);\n",
              "    animation:\n",
              "      spin 1s steps(1) infinite;\n",
              "  }\n",
              "\n",
              "  @keyframes spin {\n",
              "    0% {\n",
              "      border-color: transparent;\n",
              "      border-bottom-color: var(--fill-color);\n",
              "      border-left-color: var(--fill-color);\n",
              "    }\n",
              "    20% {\n",
              "      border-color: transparent;\n",
              "      border-left-color: var(--fill-color);\n",
              "      border-top-color: var(--fill-color);\n",
              "    }\n",
              "    30% {\n",
              "      border-color: transparent;\n",
              "      border-left-color: var(--fill-color);\n",
              "      border-top-color: var(--fill-color);\n",
              "      border-right-color: var(--fill-color);\n",
              "    }\n",
              "    40% {\n",
              "      border-color: transparent;\n",
              "      border-right-color: var(--fill-color);\n",
              "      border-top-color: var(--fill-color);\n",
              "    }\n",
              "    60% {\n",
              "      border-color: transparent;\n",
              "      border-right-color: var(--fill-color);\n",
              "    }\n",
              "    80% {\n",
              "      border-color: transparent;\n",
              "      border-right-color: var(--fill-color);\n",
              "      border-bottom-color: var(--fill-color);\n",
              "    }\n",
              "    90% {\n",
              "      border-color: transparent;\n",
              "      border-bottom-color: var(--fill-color);\n",
              "    }\n",
              "  }\n",
              "</style>\n",
              "\n",
              "  <script>\n",
              "    async function quickchart(key) {\n",
              "      const quickchartButtonEl =\n",
              "        document.querySelector('#' + key + ' button');\n",
              "      quickchartButtonEl.disabled = true;  // To prevent multiple clicks.\n",
              "      quickchartButtonEl.classList.add('colab-df-spinner');\n",
              "      try {\n",
              "        const charts = await google.colab.kernel.invokeFunction(\n",
              "            'suggestCharts', [key], {});\n",
              "      } catch (error) {\n",
              "        console.error('Error during call to suggestCharts:', error);\n",
              "      }\n",
              "      quickchartButtonEl.classList.remove('colab-df-spinner');\n",
              "      quickchartButtonEl.classList.add('colab-df-quickchart-complete');\n",
              "    }\n",
              "    (() => {\n",
              "      let quickchartButtonEl =\n",
              "        document.querySelector('#df-63ed02c6-4cb7-43e0-ba03-360a3101a894 button');\n",
              "      quickchartButtonEl.style.display =\n",
              "        google.colab.kernel.accessAllowed ? 'block' : 'none';\n",
              "    })();\n",
              "  </script>\n",
              "</div>\n",
              "\n",
              "    </div>\n",
              "  </div>\n"
            ],
            "application/vnd.google.colaboratory.intrinsic+json": {
              "type": "dataframe",
              "summary": "{\n  \"name\": \"df\",\n  \"rows\": 8,\n  \"fields\": [\n    {\n      \"column\": \"Field_ID\",\n      \"properties\": {\n        \"dtype\": \"number\",\n        \"std\": 1811.861208763183,\n        \"min\": 1.0,\n        \"max\": 5632.0,\n        \"num_unique_values\": 8,\n        \"samples\": [\n          2779.486,\n          2728.5,\n          1000.0\n        ],\n        \"semantic_type\": \"\",\n        \"description\": \"\"\n      }\n    },\n    {\n      \"column\": \"Elevation\",\n      \"properties\": {\n        \"dtype\": \"number\",\n        \"std\": 350.0190454063018,\n        \"min\": 35.910797,\n        \"max\": 1003.9437,\n        \"num_unique_values\": 8,\n        \"samples\": [\n          628.136035118,\n          657.468975,\n          1000.0\n        ],\n        \"semantic_type\": \"\",\n        \"description\": \"\"\n      }\n    },\n    {\n      \"column\": \"Rainfall\",\n      \"properties\": {\n        \"dtype\": \"number\",\n        \"std\": 702.8850116950152,\n        \"min\": 110.1,\n        \"max\": 2408.5,\n        \"num_unique_values\": 8,\n        \"samples\": [\n          1197.7347000000002,\n          1194.9,\n          1000.0\n        ],\n        \"semantic_type\": \"\",\n        \"description\": \"\"\n      }\n    },\n    {\n      \"column\": \"Min_temperature_C\",\n      \"properties\": {\n        \"dtype\": \"number\",\n        \"std\": 354.938996039134,\n        \"min\": -9.7,\n        \"max\": 1000.0,\n        \"num_unique_values\": 8,\n        \"samples\": [\n          -4.504099999999999,\n          -4.4,\n          1000.0\n        ],\n        \"semantic_type\": \"\",\n        \"description\": \"\"\n      }\n    },\n    {\n      \"column\": \"Max_temperature_C\",\n      \"properties\": {\n        \"dtype\": \"number\",\n        \"std\": 344.22997317084196,\n        \"min\": 1.922250214172414,\n        \"max\": 1000.0,\n        \"num_unique_values\": 8,\n        \"samples\": [\n          30.894599999999997,\n          30.9,\n          1000.0\n        ],\n        \"semantic_type\": \"\",\n        \"description\": \"\"\n      }\n    },\n    {\n      \"column\": \"pH\",\n      \"properties\": {\n        \"dtype\": \"number\",\n        \"std\": 351.82279103820946,\n        \"min\": 0.8021542155343985,\n        \"max\": 1000.0,\n        \"num_unique_values\": 8,\n        \"samples\": [\n          5.603898678031842,\n          5.562078395780413,\n          1000.0\n        ],\n        \"semantic_type\": \"\",\n        \"description\": \"\"\n      }\n    },\n    {\n      \"column\": \"Pollution_level\",\n      \"properties\": {\n        \"dtype\": \"number\",\n        \"std\": 353.454220549698,\n        \"min\": 5.3974477012003e-10,\n        \"max\": 1000.0,\n        \"num_unique_values\": 8,\n        \"samples\": [\n          0.22337402499409512,\n          0.1661962346482573,\n          1000.0\n        ],\n        \"semantic_type\": \"\",\n        \"description\": \"\"\n      }\n    },\n    {\n      \"column\": \"Plot_size\",\n      \"properties\": {\n        \"dtype\": \"number\",\n        \"std\": 351.9643112909631,\n        \"min\": 0.5,\n        \"max\": 1000.0,\n        \"num_unique_values\": 8,\n        \"samples\": [\n          3.9624,\n          2.9,\n          1000.0\n        ],\n        \"semantic_type\": \"\",\n        \"description\": \"\"\n      }\n    },\n    {\n      \"column\": \"Annual_yield\",\n      \"properties\": {\n        \"dtype\": \"number\",\n        \"std\": 352.4807739797974,\n        \"min\": 0.1748574333801564,\n        \"max\": 1000.0,\n        \"num_unique_values\": 8,\n        \"samples\": [\n          2.101535558642609,\n          1.4786224926247806,\n          1000.0\n        ],\n        \"semantic_type\": \"\",\n        \"description\": \"\"\n      }\n    }\n  ]\n}"
            }
          },
          "metadata": {},
          "execution_count": 3
        }
      ]
    },
    {
      "cell_type": "markdown",
      "source": [
        "1. Determine the number of unique crop types in the dataset?"
      ],
      "metadata": {
        "id": "1kNczin3_n4O"
      }
    },
    {
      "cell_type": "code",
      "source": [
        "df.Crop_type.describe()"
      ],
      "metadata": {
        "id": "RMGNuwGMdjag",
        "colab": {
          "base_uri": "https://localhost:8080/",
          "height": 209
        },
        "outputId": "e484c579-a5a6-43a4-b8a9-57b35170c63d"
      },
      "execution_count": 4,
      "outputs": [
        {
          "output_type": "execute_result",
          "data": {
            "text/plain": [
              "count      1000\n",
              "unique        8\n",
              "top       wheat\n",
              "freq        244\n",
              "Name: Crop_type, dtype: object"
            ],
            "text/html": [
              "<div>\n",
              "<style scoped>\n",
              "    .dataframe tbody tr th:only-of-type {\n",
              "        vertical-align: middle;\n",
              "    }\n",
              "\n",
              "    .dataframe tbody tr th {\n",
              "        vertical-align: top;\n",
              "    }\n",
              "\n",
              "    .dataframe thead th {\n",
              "        text-align: right;\n",
              "    }\n",
              "</style>\n",
              "<table border=\"1\" class=\"dataframe\">\n",
              "  <thead>\n",
              "    <tr style=\"text-align: right;\">\n",
              "      <th></th>\n",
              "      <th>Crop_type</th>\n",
              "    </tr>\n",
              "  </thead>\n",
              "  <tbody>\n",
              "    <tr>\n",
              "      <th>count</th>\n",
              "      <td>1000</td>\n",
              "    </tr>\n",
              "    <tr>\n",
              "      <th>unique</th>\n",
              "      <td>8</td>\n",
              "    </tr>\n",
              "    <tr>\n",
              "      <th>top</th>\n",
              "      <td>wheat</td>\n",
              "    </tr>\n",
              "    <tr>\n",
              "      <th>freq</th>\n",
              "      <td>244</td>\n",
              "    </tr>\n",
              "  </tbody>\n",
              "</table>\n",
              "</div><br><label><b>dtype:</b> object</label>"
            ]
          },
          "metadata": {},
          "execution_count": 4
        }
      ]
    },
    {
      "cell_type": "markdown",
      "source": [
        "2. Identify the maximum annual yield for \"wheat\" crop type in the dataset (rounded to 2 decimal places)."
      ],
      "metadata": {
        "id": "UcNeQ8mSCaZK"
      }
    },
    {
      "cell_type": "code",
      "source": [
        "wheat_data = df[df['Crop_type'] == 'wheat']\n",
        "print(round(wheat_data['Annual_yield'].max(), 2))"
      ],
      "metadata": {
        "colab": {
          "base_uri": "https://localhost:8080/"
        },
        "id": "OGI2gmo_Cryn",
        "outputId": "d628d599-6068-49ae-b62a-38c077d4597d"
      },
      "execution_count": 5,
      "outputs": [
        {
          "output_type": "stream",
          "name": "stdout",
          "text": [
            "8.99\n"
          ]
        }
      ]
    },
    {
      "cell_type": "markdown",
      "source": [
        "3. Find the total rainfall for crop types where the average pollution level is above 0.2"
      ],
      "metadata": {
        "id": "C9hkqS0EClAY"
      }
    },
    {
      "cell_type": "code",
      "source": [
        "# Initialise the sum of rainfall\n",
        "total_rainfall = 0\n",
        "\n",
        "# Get the unique crop types\n",
        "unique_crop_types = df['Crop_type'].unique()\n",
        "\n",
        "# Loop through each crop type\n",
        "for crop_type in unique_crop_types:\n",
        "\n",
        "    # Filter the data for the current crop type\n",
        "    crop_data = df[df['Crop_type'] == crop_type]\n",
        "\n",
        "    # Calculate the average pollution level for this crop type\n",
        "    avg_pollution = crop_data['Pollution_level'].mean()\n",
        "\n",
        "    # If the average pollution level is above 0.2, add the rainfall of this crop type to the total\n",
        "    if avg_pollution > 0.2:\n",
        "\n",
        "        total_rainfall += crop_data['Rainfall'].sum()\n",
        "\n",
        "# Output the result\n",
        "print(total_rainfall)"
      ],
      "metadata": {
        "colab": {
          "base_uri": "https://localhost:8080/"
        },
        "id": "uNzr4iIyC46c",
        "outputId": "572b578b-b241-4df8-dd46-3304c88561f9"
      },
      "execution_count": 7,
      "outputs": [
        {
          "output_type": "stream",
          "name": "stdout",
          "text": [
            "941959.7\n"
          ]
        }
      ]
    },
    {
      "cell_type": "markdown",
      "source": [
        "4. Calculate the temperature range (Max_temperature_C - Min_temperature_C) for each farmer's field. Then, call the function with the following `Field_ID`: `1458`, `1895`, and `5443`. What are the results of these 3 calls?"
      ],
      "metadata": {
        "id": "kA43dgBiC3yN"
      }
    },
    {
      "cell_type": "code",
      "source": [
        "def temp_range(df, Field_ID):\n",
        "    difference = (df['Max_temperature_C'][df['Field_ID'] == Field_ID]) - (df['Min_temperature_C'][df['Field_ID'] == Field_ID])\n",
        "    return difference\n",
        "\n",
        "#Then, call the function with the following `Field_ID`: `1458`, `1895`, and `5443`. What are the results of these 3 calls?\n",
        "\n",
        "print(temp_range(df,1458))\n",
        "print(temp_range(df,1895))\n",
        "print(temp_range(df,5443))\n"
      ],
      "metadata": {
        "colab": {
          "base_uri": "https://localhost:8080/"
        },
        "id": "wmzr_JfnQ2tL",
        "outputId": "7193ef29-0d55-40f3-b7df-d302de297bbd"
      },
      "execution_count": 8,
      "outputs": [
        {
          "output_type": "stream",
          "name": "stdout",
          "text": [
            "135    40.7\n",
            "dtype: float64\n",
            "644    35.7\n",
            "dtype: float64\n",
            "892    33.4\n",
            "dtype: float64\n"
          ]
        }
      ]
    },
    {
      "cell_type": "markdown",
      "source": [
        "5. Identify the crop type with the lowest average minimum temperature."
      ],
      "metadata": {
        "id": "5wk-ni9bIWeV"
      }
    },
    {
      "cell_type": "code",
      "source": [
        "a = df['Crop_type'].unique()\n",
        "b = float('inf')\n",
        "c = ''\n",
        "\n",
        "for crop in a:\n",
        "    d = df[df['Crop_type'] == crop]['Min_temperature_C'].mean()\n",
        "    if d < b:\n",
        "        b = d\n",
        "        c = crop\n",
        "\n",
        "print(c)"
      ],
      "metadata": {
        "colab": {
          "base_uri": "https://localhost:8080/"
        },
        "id": "f2kTz7JuQ3Y5",
        "outputId": "6949e16e-6644-4eff-e43f-66fca2f05817"
      },
      "execution_count": 9,
      "outputs": [
        {
          "output_type": "stream",
          "name": "stdout",
          "text": [
            "rice\n"
          ]
        }
      ]
    },
    {
      "cell_type": "markdown",
      "source": [
        "6. Calculate the total plot size for plots where the pH is less than 5.5."
      ],
      "metadata": {
        "id": "06out9KbH-Tg"
      }
    },
    {
      "cell_type": "code",
      "source": [
        "#plots with ph < 5.5\n",
        "filter_ph = df['pH'] < 5.5\n",
        "\n",
        "tottal_plot_size = df['Plot_size'][filter_ph].sum().round(2)\n",
        "\n",
        "print(\"Total plot size:\", tottal_plot_size)"
      ],
      "metadata": {
        "colab": {
          "base_uri": "https://localhost:8080/"
        },
        "id": "UwEJ7vNRIFwS",
        "outputId": "dfd72aaa-dd92-4fc1-86b9-51be3c0f57c8"
      },
      "execution_count": 10,
      "outputs": [
        {
          "output_type": "stream",
          "name": "stdout",
          "text": [
            "Total plot size: 1731.9\n"
          ]
        }
      ]
    },
    {
      "cell_type": "markdown",
      "source": [
        "7. Using Pandas, create a dataframe that includes entries with a 'Min_temperature_C’< -5 and a 'Max_temperature_C' > 30. How many rows are in the filtered dataset?"
      ],
      "metadata": {
        "id": "myWNnQWmLZ32"
      }
    },
    {
      "cell_type": "code",
      "source": [
        "#create a dataframe that includes entries with a 'Min_temperature_C’< -5 and a 'Max_temperature_C' > 30.\n",
        "df_temp = df[(df['Min_temperature_C'] < -5) & (df['Max_temperature_C'] > 30)]\n",
        "\n",
        "# How many rows are in the filtered dataset?\n",
        "print(len(df_temp))"
      ],
      "metadata": {
        "id": "GfKDW1tUgM2I",
        "colab": {
          "base_uri": "https://localhost:8080/"
        },
        "outputId": "5be535f8-7979-400e-9479-67457a50d04d"
      },
      "execution_count": 11,
      "outputs": [
        {
          "output_type": "stream",
          "name": "stdout",
          "text": [
            "319\n"
          ]
        }
      ]
    },
    {
      "cell_type": "markdown",
      "source": [
        "8. Calculate the standard deviation of the 'Rainfall' for plots where the 'Plot_size' is larger than the median plot size of the dataset (round to 2 decimal places)."
      ],
      "metadata": {
        "id": "LtfdAN4VL1zC"
      }
    },
    {
      "cell_type": "code",
      "source": [
        "import numpy as np\n",
        "\n",
        "median_plot_size = np.median(df['Plot_size'])\n",
        "print(\"Median:\", median_plot_size)\n",
        "\n",
        "filtered_plot_size = df[df['Plot_size'] > median_plot_size]\n",
        "\n",
        "rainfall_std = round(np.std(filtered_plot_size['Rainfall']),2)\n",
        "print(\"STD of rainfall for plots:\",rainfall_std)"
      ],
      "metadata": {
        "colab": {
          "base_uri": "https://localhost:8080/"
        },
        "id": "EIbfyrwECH6T",
        "outputId": "0e9c4361-8c12-4d55-ad02-6e61cf7160fe"
      },
      "execution_count": 15,
      "outputs": [
        {
          "output_type": "stream",
          "name": "stdout",
          "text": [
            "Median: 2.9\n",
            "STD of rainfall for plots: 469.62\n"
          ]
        }
      ]
    },
    {
      "cell_type": "markdown",
      "source": [
        "9. Concatenate the first three digits of the most common ‘Max_temperature_C’ with the last three letters of the least common 'Crop_type', what string do you get?"
      ],
      "metadata": {
        "id": "AyFuAYMkBeGS"
      }
    },
    {
      "cell_type": "code",
      "source": [
        "most_common_temp = df['Max_temperature_C'].mode()[0]\n",
        "mst_temp = str(most_common_temp)[:3]\n",
        "print(mst_temp)\n",
        "\n",
        "least_common_crop = df['Crop_type'].value_counts().idxmin()\n",
        "lst_crop = str(least_common_crop)[-3:]\n",
        "print(lst_crop)\n",
        "\n",
        "answer = mst_temp + lst_crop\n",
        "print(answer)"
      ],
      "metadata": {
        "colab": {
          "base_uri": "https://localhost:8080/"
        },
        "id": "WIYIc2ShCOXF",
        "outputId": "03a2b1d6-5731-4727-8ae2-0ec7d97fa89e"
      },
      "execution_count": 35,
      "outputs": [
        {
          "output_type": "stream",
          "name": "stdout",
          "text": [
            "30.\n",
            "ice\n",
            "30.ice\n"
          ]
        }
      ]
    },
    {
      "cell_type": "markdown",
      "source": [
        "10. Find the crop type with highest annual yield."
      ],
      "metadata": {
        "id": "_flkrURODTBd"
      }
    },
    {
      "cell_type": "code",
      "source": [
        "qwerty = df.groupby('Crop_type')[['Annual_yield']].max().iloc[0]\n",
        "print(qwerty)"
      ],
      "metadata": {
        "id": "L8C4HtnCdjq4",
        "colab": {
          "base_uri": "https://localhost:8080/"
        },
        "outputId": "280241d3-53da-45c6-83f6-5ab8daf9889a"
      },
      "execution_count": 19,
      "outputs": [
        {
          "output_type": "stream",
          "name": "stdout",
          "text": [
            "Annual_yield    7.438521\n",
            "Name: banana, dtype: float64\n"
          ]
        }
      ]
    },
    {
      "cell_type": "markdown",
      "source": [
        "11. Write Python code to create a violin plot visualising the distribution of 'Annual_yield' across different 'Elevation' ranges. Use the provided elevation range categories (Low: < 300m, Medium: 300m - 600m, High: > 600m) to categorise the data before plotting.  Examine the violin plot displaying the distribution of 'Annual Yield' across three elevation categories (Low, Medium, High). What insight does the violin plot provide regarding the relationship between elevation ranges and annual yield distribution?"
      ],
      "metadata": {
        "id": "gOYJDe34iV7j"
      }
    },
    {
      "cell_type": "code",
      "source": [
        "import pandas as pd\n",
        "import requests\n",
        "from io import StringIO\n",
        "import seaborn as sns\n",
        "import matplotlib.pyplot as plt\n",
        "\n",
        "df['Elevation_category'] = pd.cut(df['Elevation'],\n",
        "                                  bins = [-float('inf'), 300, 600, float('inf')],\n",
        "                                  labels = ['Low', 'Medium', 'High'], right = False)\n",
        "\n",
        "#Create the violin plot\n",
        "\n",
        "sns.violinplot(data= df,\n",
        "               x = 'Elevation_category',\n",
        "               y='Annual_yield',\n",
        "               hue='Elevation_category',\n",
        "               palette={'Low': 'green', 'Medium': 'blue', 'High': 'orange'},\n",
        "               legend=False\n",
        "               )\n",
        "\n",
        "               #)  # Assign colors to categories\n",
        "\n",
        "plt.title('Violin plot of anuual yield across categories')\n",
        "plt.xlabel('Elevation_category')\n",
        "plt.ylabel('Annual_yield')\n",
        "\n",
        "plt.show()"
      ],
      "metadata": {
        "id": "Y4iWvKh0h3ck",
        "colab": {
          "base_uri": "https://localhost:8080/",
          "height": 472
        },
        "outputId": "1f92e851-b6ca-4692-f5e8-cbfd9eddc9e4"
      },
      "execution_count": 40,
      "outputs": [
        {
          "output_type": "display_data",
          "data": {
            "text/plain": [
              "<Figure size 640x480 with 1 Axes>"
            ],
            "image/png": "[encoded data removed]"
          },
          "metadata": {}
        }
      ]
    },
    {
      "cell_type": "markdown",
      "source": [
        "\n",
        "#Explanation\n",
        "The narrower green violin plot for 'Low' elevation suggests less variability in annual yields compared to the broader blue and orange violins for 'Medium' and 'High' elevations, respectively.\n",
        "\n",
        "The 'Low' elevation category shows a more consistent yield distribution with less variability compared to the 'Medium' and 'High' categories. This could indicate that lower elevations provide stable conditions for consistent agricultural output."
      ],
      "metadata": {
        "id": "E_v6HwZZH-ZZ"
      }
    },
    {
      "cell_type": "markdown",
      "source": [
        "13. Assuming each 'Crop_type' contributes an integer value equal to its length (e.g., 'wheat' contributes 5), write a recursive function to sum the integer values for each unique crop type in the dataset. What is the sum?"
      ],
      "metadata": {
        "id": "7oCa7iI2iacv"
      }
    },
    {
      "cell_type": "code",
      "source": [
        "crop_types = df['Crop_type'].drop_duplicates().tolist()\n",
        "\n",
        "def sum_crop_lengths(crops, index=0):\n",
        "\n",
        "    if index == len(crops):\n",
        "\n",
        "        return 0\n",
        "\n",
        "    else:\n",
        "\n",
        "        return len(crops[index]) + sum_crop_lengths(crops, index + 1)\n",
        "\n",
        "\n",
        "\n",
        "total_length = sum_crop_lengths(crop_types)\n",
        "\n",
        "print(total_length)"
      ],
      "metadata": {
        "id": "xTsrID0kh4OG",
        "colab": {
          "base_uri": "https://localhost:8080/"
        },
        "outputId": "59f80ec6-826a-4cd5-f2ab-4e94ebc70b61"
      },
      "execution_count": 50,
      "outputs": [
        {
          "output_type": "stream",
          "name": "stdout",
          "text": [
            "42\n"
          ]
        }
      ]
    },
    {
      "cell_type": "markdown",
      "source": [
        "14. Write Python code to perform a t-test comparing the average 'Annual_yield' between 'coffee' and 'banana' crop types using scipy.stats. What is the p-value, rounded to three decimal places?"
      ],
      "metadata": {
        "id": "v6cE3kMXiisy"
      }
    },
    {
      "cell_type": "code",
      "source": [
        "import pandas as pd\n",
        "import requests\n",
        "from scipy import stats\n",
        "\n",
        "coffee_yield = df[df['Crop_type'] == 'coffee']['Annual_yield']\n",
        "\n",
        "banana_yield = df[df['Crop_type'] == 'banana']['Annual_yield']\n",
        "\n",
        "t_stat, p_value = stats.ttest_ind(coffee_yield, banana_yield)\n",
        "\n",
        "print(round(p_value, 3))"
      ],
      "metadata": {
        "id": "DvTP3Nyzi9G1",
        "colab": {
          "base_uri": "https://localhost:8080/"
        },
        "outputId": "6232409f-74e3-49a0-9dee-59339f61d9c3"
      },
      "execution_count": 52,
      "outputs": [
        {
          "output_type": "stream",
          "name": "stdout",
          "text": [
            "0.598\n"
          ]
        }
      ]
    },
    {
      "cell_type": "code",
      "source": [],
      "metadata": {
        "id": "dDWFazpwDP86"
      },
      "execution_count": null,
      "outputs": []
    }
  ]
}